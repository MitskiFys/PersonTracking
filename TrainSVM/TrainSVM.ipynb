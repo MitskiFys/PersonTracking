{
 "cells": [
  {
   "cell_type": "code",
   "execution_count": 8,
   "id": "25914f1d-8b57-4e51-b8ea-1266c1ca4d47",
   "metadata": {},
   "outputs": [],
   "source": [
    "import cv2 as cv\n",
    "from matplotlib import pyplot as plt\n",
    "import numpy\n",
    "import os"
   ]
  },
  {
   "cell_type": "code",
   "execution_count": 9,
   "id": "2de50458-5d4d-4394-9738-2a7967fdfeb3",
   "metadata": {},
   "outputs": [
    {
     "name": "stdout",
     "output_type": "stream",
     "text": [
      "4.5.1\n"
     ]
    }
   ],
   "source": [
    "print(cv.__version__)\n",
    "ImageFilePath = \"/home/mitski/Market-1501-v15.09.15/bounding_box_train/\"\n",
    "NetFilePath = \"/home/mitski/model/youtu_reid_baseline_lite.onnx\"\n",
    "BatchSize = 32;"
   ]
  },
  {
   "cell_type": "code",
   "execution_count": 10,
   "id": "64fefb7b-cfcd-49f0-99c4-21df5f8ad2b3",
   "metadata": {},
   "outputs": [],
   "source": [
    "def showImage(img):\n",
    "    img = cv.cvtColor(img, cv.COLOR_BGR2RGB)\n",
    "    plt.imshow(img)"
   ]
  },
  {
   "cell_type": "code",
   "execution_count": 18,
   "id": "f7102fa3-8399-415a-a271-3498d80d8522",
   "metadata": {},
   "outputs": [],
   "source": [
    "def normalizeMat(img): #need implementation on CUDA or GPU (if not support CUDA)\n",
    "    mean = [ 0.485, 0.456, 0.406 ]\n",
    "    std = [ 0.229, 0.224, 0.225 ]\n",
    "    imgRow, imgCols, imgDim = numpy.shape(img)\n",
    "    ret = numpy.zeros((imgRow,imgCols,imgDim), numpy.float32)\n",
    "    for y in range(0, imgRow):\n",
    "        for x in range(0, imgCols):\n",
    "            for c in range(0, imgDim):\n",
    "                ret[y,x,c] = (img[y,x,c] / 255 - mean[2-c]) / std[2-c]\n",
    "    return ret"
   ]
  },
  {
   "cell_type": "code",
   "execution_count": 22,
   "id": "05ffcbce-e399-4224-8dca-72ba328f5ebf",
   "metadata": {},
   "outputs": [],
   "source": [
    "def extractFeatures(model, batch):\n",
    "    blob = cv.dnn.blobFromImages(batch, 1.0, (128,256), (0.0, 0.0, 0.0), True, False, cv.CV_32F)\n",
    "    model.setInput(blob)\n",
    "    e1 = cv.getTickCount();\n",
    "    out = model.forward();\n",
    "    e2 = cv.getTickCount();\n",
    "    time = (e2 - e1) / cv.getTickFrequency();\n",
    "    print(\"extract time \" + str(time))\n",
    "    print(numpy.shape(out))\n",
    "    return out"
   ]
  },
  {
   "cell_type": "code",
   "execution_count": 25,
   "id": "8fbbc474-2556-4dc0-bf0e-199ffbbf885f",
   "metadata": {},
   "outputs": [],
   "source": [
    "model = cv.dnn.readNet(NetFilePath)\n",
    "model.setPreferableBackend(cv.dnn.DNN_BACKEND_CUDA)\n",
    "model.setPreferableTarget(cv.dnn.DNN_TARGET_CUDA)"
   ]
  },
  {
   "cell_type": "code",
   "execution_count": 31,
   "id": "34169418-6111-4c0c-ae4e-996e6bbf0c6f",
   "metadata": {},
   "outputs": [],
   "source": [
    "classifierSVM = cv.ml.SVM_create();\n",
    "classifierSVM.setType(cv.ml.SVM_C_SVC);\n",
    "classifierSVM.setKernel(cv.ml.SVM_RBF);\n",
    "classifierSVM.setTermCriteria((cv.TERM_CRITERIA_MAX_ITER, 10000, 1e-5));"
   ]
  },
  {
   "cell_type": "code",
   "execution_count": null,
   "id": "abb82ec8-b2bf-4078-a25a-ca9e74ba7ffb",
   "metadata": {},
   "outputs": [],
   "source": [
    "count = 0\n",
    "images = []\n",
    "features = []\n",
    "for filename in os.listdir(ImageFilePath):\n",
    "    if (len(images) != 5):\n",
    "        if (count % 100 == 0):\n",
    "            e1 = cv.getTickCount();\n",
    "            out = normalizeMat(cv.imread(ImageFilePath + filename));\n",
    "            e2 = cv.getTickCount();\n",
    "            time = (e2 - e1) / cv.getTickFrequency();\n",
    "            print(str(count) + \" \" + str(time))\n",
    "            images.append(out)\n",
    "    else:\n",
    "        features.append(extractFeatures(model, images))\n",
    "        images.clear()\n",
    "    \n",
    "    count+=1"
   ]
  },
  {
   "cell_type": "code",
   "execution_count": null,
   "id": "576a7544-eb80-44db-9439-c116af06ba07",
   "metadata": {},
   "outputs": [],
   "source": []
  },
  {
   "cell_type": "code",
   "execution_count": 87,
   "id": "fe34b84f-c47e-4894-9175-950fe2227fea",
   "metadata": {},
   "outputs": [],
   "source": [
    "img = cv.imread(ImageFilePath + \"0002_c1s1_000451_03.jpg\")"
   ]
  },
  {
   "cell_type": "code",
   "execution_count": 91,
   "id": "c6bc5237-457f-495c-a26a-99f1914a1989",
   "metadata": {},
   "outputs": [],
   "source": [
    "imgNorm = normalizeMat(img)"
   ]
  },
  {
   "cell_type": "code",
   "execution_count": 93,
   "id": "8a1b429c-b0ae-40b7-9a4d-c9ab9185a271",
   "metadata": {},
   "outputs": [],
   "source": []
  },
  {
   "cell_type": "code",
   "execution_count": 106,
   "id": "6eafdd26-2dd5-4039-aa6f-09258248a1a8",
   "metadata": {},
   "outputs": [
    {
     "name": "stdout",
     "output_type": "stream",
     "text": [
      "(1, 768, 1, 1)\n",
      "0.075332163\n"
     ]
    }
   ],
   "source": [
    "blob = cv.dnn.blobFromImage(imgNorm, 1.0, (128,256), (0.0, 0.0, 0.0), True, False, cv.CV_32F)\n",
    "model.setInput(blob)\n",
    "e1 = cv.getTickCount();\n",
    "out = model.forward();\n",
    "e2 = cv.getTickCount();\n",
    "time = (e2 - e1) / cv.getTickFrequency();"
   ]
  },
  {
   "cell_type": "code",
   "execution_count": null,
   "id": "1ed89afa-2bde-47bc-90fa-96500c21b028",
   "metadata": {},
   "outputs": [],
   "source": []
  }
 ],
 "metadata": {
  "kernelspec": {
   "display_name": "Python 3",
   "language": "python",
   "name": "python3"
  },
  "language_info": {
   "codemirror_mode": {
    "name": "ipython",
    "version": 3
   },
   "file_extension": ".py",
   "mimetype": "text/x-python",
   "name": "python",
   "nbconvert_exporter": "python",
   "pygments_lexer": "ipython3",
   "version": "3.6.9"
  }
 },
 "nbformat": 4,
 "nbformat_minor": 5
}
