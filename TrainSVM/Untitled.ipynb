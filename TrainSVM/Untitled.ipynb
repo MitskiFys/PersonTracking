{
 "cells": [
  {
   "cell_type": "code",
   "execution_count": null,
   "id": "2d6bcfde-c289-46f6-b5d1-a0a07aabe635",
   "metadata": {},
   "outputs": [],
   "source": []
  }
 ],
 "metadata": {
  "kernelspec": {
   "display_name": "Python 3",
   "language": "python",
   "name": "python3"
  },
  "language_info": {
   "codemirror_mode": {
    "name": "ipython",
    "version": 3
   },
   "file_extension": ".py",
   "mimetype": "text/x-python",
   "name": "python",
   "nbconvert_exporter": "python",
   "pygments_lexer": "ipython3",
   "version": "3.6.9"
  }
 },
 "nbformat": 4,
 "nbformat_minor": 5
}
